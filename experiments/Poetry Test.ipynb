{
 "cells": [
  {
   "cell_type": "code",
   "execution_count": 2,
   "id": "67a07efe",
   "metadata": {},
   "outputs": [],
   "source": [
    "from relationality.fields import Histo"
   ]
  },
  {
   "cell_type": "code",
   "execution_count": 3,
   "id": "f23044ce",
   "metadata": {},
   "outputs": [
    {
     "data": {
      "text/plain": [
       "Histo([1, 1, 1, 1, 1, 1, 1, 1, 1, 1, 1, 1, 1, 1, 1, 1, 1, 1, 1, 1])"
      ]
     },
     "execution_count": 3,
     "metadata": {},
     "output_type": "execute_result"
    }
   ],
   "source": [
    "Histo.uniform(20)"
   ]
  },
  {
   "cell_type": "code",
   "execution_count": null,
   "id": "22e9d106",
   "metadata": {},
   "outputs": [],
   "source": []
  }
 ],
 "metadata": {
  "kernelspec": {
   "display_name": "Python 3 (ipykernel)",
   "language": "python",
   "name": "python3"
  },
  "language_info": {
   "codemirror_mode": {
    "name": "ipython",
    "version": 3
   },
   "file_extension": ".py",
   "mimetype": "text/x-python",
   "name": "python",
   "nbconvert_exporter": "python",
   "pygments_lexer": "ipython3",
   "version": "3.10.1"
  }
 },
 "nbformat": 4,
 "nbformat_minor": 5
}
